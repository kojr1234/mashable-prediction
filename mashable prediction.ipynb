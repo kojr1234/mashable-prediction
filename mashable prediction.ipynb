{
  "cells": [
    {
      "metadata": {
        "_cell_guid": "b1076dfc-b9ad-4769-8c92-a6c4dae69d19",
        "_uuid": "8f2839f25d086af736a60e9eeb907d3b93b6e0e5",
        "collapsed": true,
        "trusted": false
      },
      "cell_type": "code",
      "source": "import numpy as np\nimport pandas as pd\nimport matplotlib.pyplot as plt\nimport seaborn as sns\nfrom scipy.sparse.csr import csr_matrix\nplt.style.use('ggplot')\n\n# Error function\ndef root_mean_squared_error(y_true, y_pred):\n    return np.sqrt(np.mean((y_pred - y_true) ** 2))\n\ndf = pd.read_csv('../input/2018s1-mo444-assignment-01//train.csv')\ndf.drop('url', axis=1, inplace=True)",
      "execution_count": null,
      "outputs": []
    },
    {
      "metadata": {
        "_cell_guid": "3dd00013-6698-4ced-b46f-3161eb7c85df",
        "_uuid": "1f12c24bfb8f21f622b4406dbf6a27f621239599",
        "collapsed": true,
        "trusted": false
      },
      "cell_type": "code",
      "source": "plt.figure(figsize=[5,5])\nax = sns.distplot(df['shares'])\nax.ticklabel_format(style='sci', axis='y', scilimits=(0,0))\nplt.xticks(rotation=30)\nplt.show()",
      "execution_count": null,
      "outputs": []
    },
    {
      "metadata": {
        "_cell_guid": "87335d6a-8091-4228-9f7a-862a35477156",
        "_uuid": "c564fb3a3cb95a16e6f5871ed3ada7ecc3e820f5",
        "collapsed": true,
        "trusted": false
      },
      "cell_type": "code",
      "source": "df.shares = np.log(df.shares)\n#df.shares = StandardScaler().fit_transform(df.shares.values.reshape(-1,1))\nplt.figure(figsize=[5,5])\nsns.distplot(df.shares)\nplt.show()",
      "execution_count": null,
      "outputs": []
    },
    {
      "metadata": {
        "_cell_guid": "8a4b852e-4ae4-422c-8b3b-9cfd3ce0502f",
        "_uuid": "edb78d811008e1c7d1647b6b911cf8c41cbb7d82",
        "collapsed": true,
        "trusted": false
      },
      "cell_type": "code",
      "source": "plt.figure(figsize=[15,15])\n\nplt.subplot(331)\nplt.scatter(df.shares, df.n_non_stop_unique_tokens.values.reshape(-1,1))\nplt.xlabel('df.n_non_stop_unique_tokens')\n\nplt.subplot(332)\nplt.scatter(df.shares, df.n_non_stop_words.values.reshape(-1,1))\nplt.xlabel('df.n_non_stop_words')\n\nplt.show()",
      "execution_count": null,
      "outputs": []
    },
    {
      "metadata": {
        "_cell_guid": "0db274bb-bfd9-490c-872c-dd77ff26f77a",
        "_uuid": "575ed175467a5cc494878196cf078895923661c5",
        "collapsed": true,
        "trusted": false
      },
      "cell_type": "code",
      "source": "plt.figure(figsize=[15,13])\nplt.subplot(331)\nsns.violinplot(x='data_channel_is_lifestyle', y='shares', data=df)\n\nplt.subplot(332)\nsns.violinplot(x='data_channel_is_entertainment', y='shares', data=df)\n\nplt.subplot(333)\nsns.violinplot(x='data_channel_is_bus', y='shares', data=df)\n\nplt.subplot(334)\nsns.violinplot(x='data_channel_is_socmed', y='shares', data=df)\n\nplt.subplot(335)\nsns.violinplot(x='data_channel_is_tech', y='shares', data=df)\n\nplt.subplot(336)\nsns.violinplot(x='data_channel_is_world', y='shares', data=df)\n\nplt.show()",
      "execution_count": null,
      "outputs": []
    },
    {
      "metadata": {
        "scrolled": false,
        "_cell_guid": "bfa36e5e-9347-4eac-8c48-64c6d5f10c9e",
        "_uuid": "22d8e40e5c8a5e1902a8b3eaac0fa1db67990786",
        "collapsed": true,
        "trusted": false
      },
      "cell_type": "code",
      "source": "plt.figure(figsize=[15,13])\nplt.subplot(721)\nsns.violinplot(x='weekday_is_monday', y='shares', data=df)\n\nplt.subplot(331)\nsns.violinplot(x='weekday_is_tuesday', y='shares', data=df)\n\nplt.subplot(332)\nsns.violinplot(x='weekday_is_wednesday', y='shares', data=df)\n\nplt.subplot(333)\nsns.violinplot(x='weekday_is_thursday', y='shares', data=df)\n\nplt.subplot(334)\nsns.violinplot(x='weekday_is_friday', y='shares', data=df)\n\nplt.subplot(335)\nsns.violinplot(x='weekday_is_saturday', y='shares', data=df)\n\nplt.subplot(336)\nsns.violinplot(x='weekday_is_sunday', y='shares', data=df)\n\nplt.subplot(337)\nsns.violinplot(x='is_weekend', y='shares', data=df)\n\nplt.show()",
      "execution_count": null,
      "outputs": []
    },
    {
      "metadata": {
        "_cell_guid": "a70e8377-7a68-4c9a-9ee9-573f10234abe",
        "_uuid": "7f51b85a82bc4ec1529ee4f763c4b409ee431cc7",
        "collapsed": true,
        "trusted": false
      },
      "cell_type": "code",
      "source": "check_outliers = ['kw_max_avg', 'self_reference_max_shares', 'self_reference_avg_sharess', \n                  'kw_avg_max', 'kw_avg_avg', 'kw_min_max', 'n_tokens_content', 'kw_avg_min',\n                  'self_reference_min_shares', 'kw_max_min', 'kw_max_max', 'shares']\n\nplt.figure(figsize=[20,10])\ndf[list(set(df.columns) - set(check_outliers))].boxplot()\nplt.xticks(rotation=90)\nplt.show()",
      "execution_count": null,
      "outputs": []
    },
    {
      "metadata": {
        "scrolled": true,
        "_cell_guid": "0a6e2aba-5f62-41da-99f5-bcdc12051174",
        "_uuid": "4a0eb1f3bb90953af28ebc0649d8720b508d29f5",
        "collapsed": true,
        "trusted": false
      },
      "cell_type": "code",
      "source": "#df[discrete_vars] = df[discrete_vars].apply(lambda x: x.astype('category'))\n#df.info()",
      "execution_count": null,
      "outputs": []
    },
    {
      "metadata": {
        "_cell_guid": "d891e857-e6cd-43b6-97d2-e7fea38ebd02",
        "_uuid": "9b9f1f42234b99aeb81cdef4069b061ea6a6a2a7",
        "collapsed": true,
        "trusted": false
      },
      "cell_type": "code",
      "source": "df = df.drop(['is_weekend'], axis=1)",
      "execution_count": null,
      "outputs": []
    },
    {
      "metadata": {
        "_cell_guid": "2f96fd72-e533-4186-834e-b5904bc1714f",
        "_uuid": "138e097708debff1cdf0c14bddfaba7b657934a0",
        "collapsed": true,
        "trusted": false
      },
      "cell_type": "code",
      "source": "df = df[df.n_non_stop_unique_tokens < 600]\ndf = df[df.n_unique_tokens < 500]\ndf = df[df.n_non_stop_words < 1000]",
      "execution_count": null,
      "outputs": []
    },
    {
      "metadata": {
        "scrolled": true,
        "_cell_guid": "a6069e34-0901-447b-859e-803f36d7ef46",
        "_uuid": "fcd75b63632687f2f86032b8632318b4a68f9de5",
        "collapsed": true,
        "trusted": false
      },
      "cell_type": "code",
      "source": "plt.figure(figsize=[15,15])\n\nplt.subplot(331)\nplt.scatter(df.shares, df.n_non_stop_unique_tokens.values.reshape(-1,1))\nplt.xlabel('n_non_stop_unique_tokens')\n\nplt.subplot(332)\nplt.scatter(df.shares, df.n_non_stop_words.values.reshape(-1,1))\nplt.xlabel('n_non_stop_words')\n\nplt.show()",
      "execution_count": null,
      "outputs": []
    },
    {
      "metadata": {
        "scrolled": false,
        "_cell_guid": "d08fccfe-7b17-4c4a-991f-b4e02daf6f87",
        "_uuid": "e9531cb4d96a4fa5e22b1a364bb973d85ab4ca74",
        "collapsed": true,
        "trusted": false
      },
      "cell_type": "code",
      "source": "for col in df.columns:\n    plt.scatter(df.shares, df[col].values)\n    plt.xlabel(col)\n    plt.show()",
      "execution_count": null,
      "outputs": []
    },
    {
      "metadata": {
        "_cell_guid": "85989e67-f234-41d1-9793-1fc369767449",
        "_uuid": "0d6ab6b7461259640e26999a97322d202c1950cc",
        "collapsed": true,
        "trusted": false
      },
      "cell_type": "code",
      "source": "discrete_vars = ['n_tokens_title', 'num_keywords', 'kw_min_min', 'kw_max_min', \n                  'kw_min_max', 'kw_max_max', 'num_hrefs', 'num_self_hrefs', \n                  'num_imgs', 'num_videos', 'n_tokens_title', 'n_tokens_content', \n                  'n_non_stop_words', 'n_non_stop_words', 'data_channel_is_lifestyle', \n                  'data_channel_is_entertainment', 'data_channel_is_bus',\n                  'data_channel_is_socmed', 'data_channel_is_tech', 'data_channel_is_world', \n                  'weekday_is_monday', 'weekday_is_tuesday', 'weekday_is_wednesday',\n                  'weekday_is_thursday', 'weekday_is_friday', 'weekday_is_saturday',\n                  'weekday_is_sunday', 'is_weekend']\n\nother_data = list(set(df.columns) - set(discrete_vars) - set(['shares']))",
      "execution_count": null,
      "outputs": []
    },
    {
      "metadata": {
        "_cell_guid": "f3a57cca-9333-449c-accb-d1ca045a1342",
        "_uuid": "98ed45a3ed2e1fe826387a8f81770db977a92e38",
        "collapsed": true,
        "trusted": false
      },
      "cell_type": "code",
      "source": "# ML Models\nfrom sklearn.linear_model import LinearRegression, SGDRegressor\nfrom sklearn.ensemble import RandomForestRegressor\nfrom xgboost import XGBRegressor\n\n# Model selection\nfrom sklearn.model_selection import train_test_split\nfrom sklearn.model_selection import GridSearchCV\n\n# preprocessing\nfrom sklearn.preprocessing import StandardScaler, PolynomialFeatures\nfrom sklearn.decomposition import PCA\nfrom sklearn.preprocessing import FunctionTransformer\nfrom sklearn.preprocessing import PolynomialFeatures\n\n# Metrics\nfrom sklearn.metrics import mean_absolute_error\n\n# Pipeline\nfrom sklearn.pipeline import Pipeline\nfrom sklearn.pipeline import FeatureUnion",
      "execution_count": null,
      "outputs": []
    },
    {
      "metadata": {
        "_cell_guid": "12e60463-d89e-4405-a87a-72243783f340",
        "_uuid": "2f35864dc680660a55731be95b0edc249317790a",
        "collapsed": true,
        "trusted": false
      },
      "cell_type": "code",
      "source": "###################### XGBoost ######################\n\nscaler = StandardScaler()\n\nX = df.drop(['shares'], axis=1)\nX = scaler.fit_transform(X)\n\ny = df.shares\n\n\nreg = XGBRegressor(learning_rate=0.25, gamma=1e-3, min_child_weight=15, \n                   max_depth=3, colsample_bylevel=.7, colsample_bytree=.7, reg_lambda=10,\n                   max_delta_step=10)\nreg.fit(X, y)\n\ndf_test = pd.read_csv('../input/2018s1-mo444-assignment-01//test.csv')\ndf_test = df_test.drop(['url'], axis=1)\nX_test = scaler.transform(df_test)\n\ndf_target = pd.read_csv('../input/2018s1-mo444-assignment-01//test_target.csv')\ndf_target.shares = np.log(df_target['shares'].values)\n\ny_pred = reg.predict(X_test)\nprint(\"Model xgboost - RMSE Score: {}   MAE Score: {}\".format(root_mean_squared_error(df_target.shares, y_pred), mean_absolute_error(np.exp(df_target.shares), np.exp(y_pred))))",
      "execution_count": null,
      "outputs": []
    },
    {
      "metadata": {
        "_cell_guid": "29486334-f961-446f-be38-b1914393432a",
        "_uuid": "085bbd503ab757bed55cdc5f3cbb1e298975c4e5",
        "collapsed": true,
        "trusted": false
      },
      "cell_type": "code",
      "source": "plt.plot(y_pred)\nplt.plot(df_target.shares, alpha=.7)\nplt.show()",
      "execution_count": null,
      "outputs": []
    },
    {
      "metadata": {
        "_cell_guid": "30762e54-530f-4796-a511-d1705d48288a",
        "_uuid": "55b3ca1d0dad78118bdc40ff2a00c0c6c5bd5b31",
        "collapsed": true,
        "trusted": false
      },
      "cell_type": "code",
      "source": "###################### Random Forest ######################\n\nscaler = StandardScaler()\nX = df.drop(['shares'], axis=1)\nX = scaler.fit_transform(X)\n\ny = df.shares\n\nreg = RandomForestRegressor(max_depth=10, min_samples_leaf=50, n_estimators=25)\nreg.fit(X, y)\n\ndf_test = pd.read_csv('../input/2018s1-mo444-assignment-01//test.csv')\ndf_test = df_test.drop(['url'], axis=1)\nX_test = scaler.transform(df_test)\n\ndf_target = pd.read_csv('../input/2018s1-mo444-assignment-01//test_target.csv')\ndf_target.shares = np.log(df_target['shares'].values)\n\ny_pred = reg.predict(X_test)\nprint(\"Model random forest tree - RMSE Score: {}\".format(root_mean_squared_error(df_target.shares, y_pred)))",
      "execution_count": null,
      "outputs": []
    },
    {
      "metadata": {
        "_cell_guid": "19ec0926-6836-4254-8099-40eef487149d",
        "_uuid": "739fd4d25c8374f6f2476cadd52487bc5f875ecd",
        "collapsed": true,
        "trusted": false
      },
      "cell_type": "code",
      "source": "X_poly = df.sample(2000)\ny_poly = X_poly.shares\nX_poly.drop('shares', axis=1, inplace=True)\n\nX_train, X_test, y_train, y_test = train_test_split(X_poly, y_poly, test_size=.3, random_state=50)\n\ndegrees = [5]\n\nfor degree in degrees:\n    pipeline = Pipeline([\n        ('scaler', StandardScaler()),\n        ('poly', PolynomialFeatures(degree=degree)),\n        ('linear', LinearRegression())\n    ])\n    pipeline.fit(X_train, y_train)\n    y_pred = pipeline.predict(X_test)\n    print(\"Model Linear Regression - Degree {}\\nRMSE Score: {}  -  MAE Score: {}\".format(degree, root_mean_squared_error(y_test, y_pred), mean_absolute_error(np.exp(y_test), np.exp(y_pred))))",
      "execution_count": null,
      "outputs": []
    },
    {
      "metadata": {
        "_cell_guid": "42629f5b-b64c-469c-bab4-ad178bf081cf",
        "_uuid": "1ebbf373516134f17def89049b6586064ab605aa",
        "collapsed": true,
        "trusted": false
      },
      "cell_type": "code",
      "source": "X = df.drop(['shares'], axis=1)\ny = df.shares\n\n################################################## PIPELINE ##################################################\nget_discrete_data = FunctionTransformer(lambda x: x[discrete_vars], validate=False)\nget_other_data = FunctionTransformer(lambda x: x[other_data], validate=False)\n\nprocess = FeatureUnion([\n    ('discrete_features', Pipeline([\n        ('selector', get_discrete_data),\n        ('scaler', StandardScaler())\n    ])),\n    ('other_features', Pipeline([\n        ('selector', get_other_data),\n        ('scaler', StandardScaler())\n    ]))\n])\n\npipeline = Pipeline([\n    ('discrete_process', process),\n    ('poly', PolynomialFeatures(degree=3)),\n    ('pca', PCA(n_components=10)),\n    ('linear', LinearRegression())\n    #('sgdregressor', SGDRegressor(alpha=0.01, max_iter=100, fit_intercept=True, penalty='l2', random_state=50))\n])\n\npipeline.fit(X, y)\n\ndf_test = pd.read_csv('../input/2018s1-mo444-assignment-01//test.csv')\ndf_test = df_test.drop('url', axis=1)\n#df_test = scaler.transform(df_test)\n\ndf_target = pd.read_csv('../input/2018s1-mo444-assignment-01//test_target.csv')\ndf_target.shares = np.log(df_target['shares'].values)\n\ny_pred = pipeline.predict(df_test)\nprint(\"Model 1 - RMSE Score: {}\".format(root_mean_squared_error(df_target.shares, y_pred)))\n#########################################################################################################################",
      "execution_count": null,
      "outputs": []
    },
    {
      "metadata": {
        "_cell_guid": "dc720f12-1563-457c-a57d-e043fe75250d",
        "_uuid": "56ce84495a9b05a8a3e27cddb26b2fa1a71582f7",
        "collapsed": true,
        "trusted": false
      },
      "cell_type": "code",
      "source": "plt.figure(figsize=[5,5])\nplt.scatter(y_pred, df_target.shares)\nplt.ylabel('True shares')\nplt.xlabel('Predicted shares')\nplt.show()",
      "execution_count": null,
      "outputs": []
    },
    {
      "metadata": {
        "_cell_guid": "f20d27a7-1786-44ab-9a1e-d703c9a89cfa",
        "_uuid": "ebff704bc38cd5929d832698e2c5b399fe02e929",
        "collapsed": true,
        "trusted": false
      },
      "cell_type": "code",
      "source": "XGBRegressor()",
      "execution_count": null,
      "outputs": []
    },
    {
      "metadata": {
        "_cell_guid": "d8cc7656-db86-4f28-b15b-3dc9e53c5c10",
        "_uuid": "c425f3d1f99102b59de5135be46d44ed678878b1",
        "collapsed": true,
        "trusted": false
      },
      "cell_type": "code",
      "source": "X = df.drop(['shares'], axis=1)\ny = df.shares\n\nX_train, X_test, y_train, y_test = train_test_split(X, y, test_size=.2, random_state=50)\n\n################################################## PIPELINE ##################################################\nget_discrete_data = FunctionTransformer(lambda x: x[discrete_vars], validate=False)\nget_other_data = FunctionTransformer(lambda x: x[other_data], validate=False)\n\nn_iteration = [5, 10, 50, 100, 500, 1000, 2000, 3000, 4000] \nresults_train = []\nresults_test = []\n\nfor n in n_iteration:\n    process = FeatureUnion([\n        ('discrete_features', Pipeline([\n            ('selector', get_discrete_data),\n            ('scaler', StandardScaler())\n        ])),\n        ('other_features', Pipeline([\n            ('selector', get_other_data),\n            ('scaler', StandardScaler())\n        ]))\n    ])\n    pipeline = Pipeline([\n        ('discrete_process', process),\n        ('sgdregressor', SGDRegressor(alpha=0.001, max_iter=n, random_state=50))\n    ])\n    \n    pipeline.fit(X, y)\n    \n    y_pred_train = pipeline.predict(X)\n    results_train.append(root_mean_squared_error(y, y_pred_train))\n    \n    df_test = pd.read_csv('../input/2018s1-mo444-assignment-01//test.csv')\n    df_test = df_test.drop(['url'], axis=1)\n\n    df_target = pd.read_csv('../input/2018s1-mo444-assignment-01//test_target.csv')\n    df_target.shares = np.log(df_target['shares'].values)\n\n    y_pred = pipeline.predict(df_test)\n    results_test.append(root_mean_squared_error(df_target.shares, y_pred))\n#########################################################################################################################",
      "execution_count": null,
      "outputs": []
    },
    {
      "metadata": {
        "_cell_guid": "3a191bc0-5ce6-4e18-afdc-333562c7b622",
        "_uuid": "4f0bf5ed1456bb58bf5555ccdc034b4338917bba",
        "collapsed": true,
        "trusted": false
      },
      "cell_type": "code",
      "source": "######### plot #########\nplt.figure(figsize=[5,5])\nplt.plot(results_train, label='Training Set Error', linestyle='--')\nplt.plot(results_test, label='Validation Set Error')\nplt.xticks(np.arange(len(n_iteration)), [str(n) for n in n_iteration])\nplt.xlabel('iterations')\nplt.ylabel('cost function')\nplt.legend()\nplt.show()",
      "execution_count": null,
      "outputs": []
    },
    {
      "metadata": {
        "_cell_guid": "ac3352db-b80e-4c9b-b1ab-74d90976508f",
        "_uuid": "26eeb99b791a927f98057e53c3d23c1effe0b280"
      },
      "cell_type": "markdown",
      "source": "**Model test on testset **"
    },
    {
      "metadata": {
        "_cell_guid": "c4684b1e-2029-46a0-8b6c-2e84774702ba",
        "_uuid": "5b2b132381c95b13fe45f0e21bade479a0a220de",
        "collapsed": true,
        "trusted": false
      },
      "cell_type": "code",
      "source": "new_X = df.sample(3000).reset_index(drop=True)\nnew_y = new_X.shares\nnew_X.drop('shares', axis=1, inplace=True)",
      "execution_count": null,
      "outputs": []
    },
    {
      "metadata": {
        "_cell_guid": "56940b9c-b701-4891-a74f-6d962a12140e",
        "_uuid": "c59f50cf2f40744c5c1a69ef4856864db46afaa9",
        "collapsed": true,
        "trusted": false
      },
      "cell_type": "code",
      "source": "alpha = [1e-1, 2e-1, 3e-1, 4e-1, 5e-1, 6e-1, 7e-1, 8e-1, 9e-1, 1]#[1, 5e-1, 1e-1, 1e-2, 1e-3, 1e-4, 1e-5]\nnew_X = StandardScaler().fit_transform(new_X)\n\nX_train, X_test, y_train, y_test = train_test_split(new_X, new_y, test_size=.2, random_state=50)\n\nlin_reg = LinearRegression()\nlin_reg.fit(X_train, y_train)\ny_pred_nrm = lin_reg.predict(X_test)\nresult_nrm = root_mean_squared_error(y_test, y_pred_nrm)\n\nresult_sgd = []\nfor a in alpha:\n    reg = SGDRegressor(alpha=a, max_iter=100, random_state=50)\n    \n    reg.fit(X_train, y_train)\n    y_pred_sgd = reg.predict(X_test)\n    \n    result_sgd.append(root_mean_squared_error(y_test, y_pred_sgd))",
      "execution_count": null,
      "outputs": []
    },
    {
      "metadata": {
        "_cell_guid": "67592fb3-65fb-4bc4-8306-8f91a6fa8c19",
        "_uuid": "77b1ff461bae81a191d7a30d2f5f139d45a0dfd2",
        "collapsed": true,
        "trusted": false
      },
      "cell_type": "code",
      "source": "result_sgd[:,1]",
      "execution_count": null,
      "outputs": []
    },
    {
      "metadata": {
        "_cell_guid": "0c7dbdee-2955-40f6-bfc7-c35192921fd7",
        "_uuid": "28d74b5303f51887777a57fe57d346a759ecf6a9",
        "collapsed": true,
        "trusted": false
      },
      "cell_type": "code",
      "source": "plt.figure(figsize=[5,5])\nplt.plot(result_sgd, label='SGD')\nplt.axhline(result_nrm, linestyle='--', color='darkblue', label='Normal')\nplt.xticks(np.arange(len(alpha)), [str(a) for a in alpha])\nplt.legend()\nplt.ylabel('cost function')\nplt.xlabel(r'$\\alpha$ value')\nplt.show()",
      "execution_count": null,
      "outputs": []
    },
    {
      "metadata": {
        "_cell_guid": "1febdd95-4d0f-431a-bd7e-0ad424e736e5",
        "_uuid": "614ea227af908af8503832f0d0c37d17e060e595",
        "collapsed": true,
        "trusted": false
      },
      "cell_type": "code",
      "source": "# Models\nfrom sklearn.linear_model import SGDRegressor\nfrom sklearn.preprocessing import StandardScaler, MinMaxScaler\n\nlr = [1e-5, 1e-4, 1e-3, 1e-2, 1e-1]\nresults = []\n\nscale = True\nif scale:\n    sc = MinMaxScaler()\n    X_train = sc.fit_transform(X_train)\n    X_test = sc.fit_transform(X_test)\n\nfor alpha in lr:\n    model = SGDRegressor(alpha=alpha, loss='epsilon_insensitive', epsilon=1e-3, average=True, penalty='l2', max_iter=1500, random_state=50)\n    model.fit(X_train, y_train)\n    y_pred = model.predict(X_test)\n    results.append((\"SGDRegressor |  lr: \" + str(alpha),(root_mean_squared_error(y_test, y_pred), model.score(X_test, y_test))))\n\nfor result in results:\n    print(result[0], result[1])",
      "execution_count": null,
      "outputs": []
    },
    {
      "metadata": {
        "_cell_guid": "98603ca7-b0d9-4192-9d7d-8442517fcf46",
        "_uuid": "aaa5777b14950ad90acdf5fd4b200fa27d109103",
        "collapsed": true,
        "trusted": false
      },
      "cell_type": "code",
      "source": "from keras.callbacks import EarlyStopping\nfrom keras.optimizers import Adam\nfrom keras.layers.core import Dense, Activation\nfrom keras.models import Sequential\nfrom keras import metrics\n\nmy_opt = Adam()\nmodel = Sequential()\nmodel.add(Dense(30, activation='tanh', input_shape=(X.shape[1],)))\nmodel.add(Dense(1))\nmodel.compile(optimizer=my_opt, loss='mse')\nmodel.fit(X, y, epochs=50)\n\ndf_test = pd.read_csv('../input/2018s1-mo444-assignment-01//test.csv')\ndf_test = df_test.drop(['url'], axis=1)\n\ndf_target = pd.read_csv('../input/2018s1-mo444-assignment-01//test_target.csv')\ndf_target.shares = np.log(df_target['shares'].values)\n\ny_pred = model.predict(df_test)\nprint(\"Model 1 - RMSE Score: {}   -   r2 Score: {}\".format(root_mean_squared_error(df_target.shares, y_pred),\n                                                           model.score(df_test, df_target.shares)))",
      "execution_count": null,
      "outputs": []
    }
  ],
  "metadata": {
    "language_info": {
      "name": "python",
      "version": "3.6.5",
      "mimetype": "text/x-python",
      "codemirror_mode": {
        "name": "ipython",
        "version": 3
      },
      "pygments_lexer": "ipython3",
      "nbconvert_exporter": "python",
      "file_extension": ".py"
    },
    "kernelspec": {
      "display_name": "Python 3",
      "language": "python",
      "name": "python3"
    }
  },
  "nbformat": 4,
  "nbformat_minor": 1
}